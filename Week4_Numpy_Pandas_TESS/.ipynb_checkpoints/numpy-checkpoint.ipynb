{
 "cells": [
  {
   "attachments": {
    "numpy.png": {
     "image/png": "[encoded data removed]"
    }
   },
   "cell_type": "markdown",
   "metadata": {},
   "source": [
    "# Python Libraries 1\n",
    "# Numpy ![numpy.png](attachment:numpy.png)"
   ]
  },
  {
   "cell_type": "code",
   "execution_count": 1,
   "metadata": {},
   "outputs": [],
   "source": [
    "import numpy"
   ]
  },
  {
   "cell_type": "code",
   "execution_count": 2,
   "metadata": {},
   "outputs": [],
   "source": [
    "l=[1,2,3]\n",
    "arr=numpy.array(l)"
   ]
  },
  {
   "cell_type": "code",
   "execution_count": 3,
   "metadata": {},
   "outputs": [
    {
     "data": {
      "text/plain": [
       "array([1, 2, 3])"
      ]
     },
     "execution_count": 3,
     "metadata": {},
     "output_type": "execute_result"
    }
   ],
   "source": [
    "arr"
   ]
  },
  {
   "cell_type": "code",
   "execution_count": 4,
   "metadata": {},
   "outputs": [],
   "source": [
    "import numpy as np"
   ]
  },
  {
   "cell_type": "code",
   "execution_count": 5,
   "metadata": {},
   "outputs": [
    {
     "data": {
      "text/plain": [
       "array([1, 2, 3])"
      ]
     },
     "execution_count": 5,
     "metadata": {},
     "output_type": "execute_result"
    }
   ],
   "source": [
    "np.array(l)"
   ]
  },
  {
   "cell_type": "code",
   "execution_count": 6,
   "metadata": {},
   "outputs": [],
   "source": [
    "arr_1=np.array([1,2,3])"
   ]
  },
  {
   "cell_type": "code",
   "execution_count": 7,
   "metadata": {},
   "outputs": [
    {
     "data": {
      "text/plain": [
       "array([1, 2, 3])"
      ]
     },
     "execution_count": 7,
     "metadata": {},
     "output_type": "execute_result"
    }
   ],
   "source": [
    "arr_1"
   ]
  },
  {
   "cell_type": "code",
   "execution_count": 8,
   "metadata": {},
   "outputs": [
    {
     "data": {
      "text/plain": [
       "array([2, 3, 4])"
      ]
     },
     "execution_count": 8,
     "metadata": {},
     "output_type": "execute_result"
    }
   ],
   "source": [
    "arr_1+1"
   ]
  },
  {
   "cell_type": "code",
   "execution_count": 9,
   "metadata": {},
   "outputs": [
    {
     "data": {
      "text/plain": [
       "array([2, 4, 6])"
      ]
     },
     "execution_count": 9,
     "metadata": {},
     "output_type": "execute_result"
    }
   ],
   "source": [
    "arr_1*2"
   ]
  },
  {
   "cell_type": "code",
   "execution_count": 10,
   "metadata": {},
   "outputs": [
    {
     "data": {
      "text/plain": [
       "[1, 2, 3, 2, 3, 4]"
      ]
     },
     "execution_count": 10,
     "metadata": {},
     "output_type": "execute_result"
    }
   ],
   "source": [
    "l_1=[1,2,3]\n",
    "l_2=[2,3,4]\n",
    "l_1+l_2"
   ]
  },
  {
   "cell_type": "code",
   "execution_count": 11,
   "metadata": {},
   "outputs": [],
   "source": [
    "arr_1=np.array(l_1)\n",
    "arr_2=np.array(l_2)"
   ]
  },
  {
   "cell_type": "code",
   "execution_count": 12,
   "metadata": {},
   "outputs": [
    {
     "data": {
      "text/plain": [
       "array([3, 5, 7])"
      ]
     },
     "execution_count": 12,
     "metadata": {},
     "output_type": "execute_result"
    }
   ],
   "source": [
    "arr_1+arr_2"
   ]
  },
  {
   "cell_type": "code",
   "execution_count": 13,
   "metadata": {},
   "outputs": [
    {
     "data": {
      "text/plain": [
       "np.int64(6)"
      ]
     },
     "execution_count": 13,
     "metadata": {},
     "output_type": "execute_result"
    }
   ],
   "source": [
    "arr_1.sum()"
   ]
  },
  {
   "cell_type": "code",
   "execution_count": 14,
   "metadata": {},
   "outputs": [
    {
     "data": {
      "text/plain": [
       "np.int64(1)"
      ]
     },
     "execution_count": 14,
     "metadata": {},
     "output_type": "execute_result"
    }
   ],
   "source": [
    "#Indexing\n",
    "arr_1[0]"
   ]
  },
  {
   "cell_type": "code",
   "execution_count": 15,
   "metadata": {},
   "outputs": [
    {
     "data": {
      "text/plain": [
       "np.int64(3)"
      ]
     },
     "execution_count": 15,
     "metadata": {},
     "output_type": "execute_result"
    }
   ],
   "source": [
    "arr_1[2]"
   ]
  },
  {
   "cell_type": "code",
   "execution_count": 16,
   "metadata": {},
   "outputs": [
    {
     "name": "stdout",
     "output_type": "stream",
     "text": [
      "1\n",
      "2\n",
      "3\n"
     ]
    }
   ],
   "source": [
    "for i in arr_1:\n",
    "    print(i)"
   ]
  },
  {
   "cell_type": "code",
   "execution_count": 17,
   "metadata": {},
   "outputs": [],
   "source": [
    "arr_2D=np.array([[1,1],[2,1],[3,2]])"
   ]
  },
  {
   "cell_type": "code",
   "execution_count": 18,
   "metadata": {},
   "outputs": [
    {
     "data": {
      "text/plain": [
       "array([[1, 1],\n",
       "       [2, 1],\n",
       "       [3, 2]])"
      ]
     },
     "execution_count": 18,
     "metadata": {},
     "output_type": "execute_result"
    }
   ],
   "source": [
    "arr_2D"
   ]
  },
  {
   "cell_type": "code",
   "execution_count": 19,
   "metadata": {},
   "outputs": [],
   "source": [
    "rand_array=np.random.random(size=[3,2])"
   ]
  },
  {
   "cell_type": "code",
   "execution_count": 20,
   "metadata": {},
   "outputs": [
    {
     "data": {
      "text/plain": [
       "array([[0., 0.],\n",
       "       [0., 0.],\n",
       "       [0., 0.]])"
      ]
     },
     "execution_count": 20,
     "metadata": {},
     "output_type": "execute_result"
    }
   ],
   "source": [
    "zero_array=np.zeros(shape=[3,2])\n",
    "zero_array"
   ]
  },
  {
   "cell_type": "code",
   "execution_count": 21,
   "metadata": {},
   "outputs": [
    {
     "data": {
      "text/plain": [
       "array([[0., 0.],\n",
       "       [0., 0.],\n",
       "       [0., 0.]])"
      ]
     },
     "execution_count": 21,
     "metadata": {},
     "output_type": "execute_result"
    }
   ],
   "source": [
    "zero_array"
   ]
  },
  {
   "cell_type": "code",
   "execution_count": 22,
   "metadata": {},
   "outputs": [],
   "source": [
    "rand_array=np.random.random(size=[5,5])"
   ]
  },
  {
   "cell_type": "code",
   "execution_count": 23,
   "metadata": {},
   "outputs": [
    {
     "data": {
      "text/plain": [
       "array([[0.92195693, 0.15055528, 0.10767384, 0.64988465, 0.09309759],\n",
       "       [0.35249948, 0.22941428, 0.59710683, 0.63031878, 0.34697616],\n",
       "       [0.57251534, 0.42478773, 0.07617682, 0.09608835, 0.55587856],\n",
       "       [0.15673304, 0.94415963, 0.2106766 , 0.32913068, 0.15424418],\n",
       "       [0.84355948, 0.89733068, 0.50238508, 0.20964912, 0.84460794]])"
      ]
     },
     "execution_count": 23,
     "metadata": {},
     "output_type": "execute_result"
    }
   ],
   "source": [
    "rand_array"
   ]
  },
  {
   "cell_type": "code",
   "execution_count": 24,
   "metadata": {},
   "outputs": [
    {
     "data": {
      "text/plain": [
       "np.float64(0.2294142839934199)"
      ]
     },
     "execution_count": 24,
     "metadata": {},
     "output_type": "execute_result"
    }
   ],
   "source": [
    "rand_array[1,1]"
   ]
  },
  {
   "cell_type": "code",
   "execution_count": 25,
   "metadata": {},
   "outputs": [
    {
     "data": {
      "text/plain": [
       "array([[0.92195693, 0.15055528],\n",
       "       [0.35249948, 0.22941428]])"
      ]
     },
     "execution_count": 25,
     "metadata": {},
     "output_type": "execute_result"
    }
   ],
   "source": [
    "rand_array[0:2,0:2]"
   ]
  },
  {
   "cell_type": "code",
   "execution_count": 26,
   "metadata": {},
   "outputs": [
    {
     "data": {
      "text/plain": [
       "array([1.92316829, 2.15631553, 1.7254468 , 1.79494413, 3.2975323 ])"
      ]
     },
     "execution_count": 26,
     "metadata": {},
     "output_type": "execute_result"
    }
   ],
   "source": [
    "rand_array.sum(axis=1)"
   ]
  },
  {
   "cell_type": "code",
   "execution_count": 27,
   "metadata": {},
   "outputs": [
    {
     "data": {
      "text/plain": [
       "np.float64(2.08058552)"
      ]
     },
     "execution_count": 27,
     "metadata": {},
     "output_type": "execute_result"
    }
   ],
   "source": [
    "np.array([0.4924862 , 0.58400964, 0.42182289, 0.31476085, 0.26750594]).sum()"
   ]
  },
  {
   "cell_type": "code",
   "execution_count": 28,
   "metadata": {},
   "outputs": [
    {
     "data": {
      "text/plain": [
       "array([[9.21956925, 1.50555278, 1.07673844, 6.49884654, 0.9309759 ],\n",
       "       [3.52499476, 2.29414284, 5.97106833, 6.30318776, 3.46976165],\n",
       "       [5.72515338, 4.24787733, 0.76176821, 0.96088353, 5.5587856 ],\n",
       "       [1.56733043, 9.44159629, 2.10676601, 3.29130679, 1.54244183],\n",
       "       [8.43559479, 8.97330679, 5.02385085, 2.09649121, 8.44607939]])"
      ]
     },
     "execution_count": 28,
     "metadata": {},
     "output_type": "execute_result"
    }
   ],
   "source": [
    "rand_array*10"
   ]
  },
  {
   "cell_type": "code",
   "execution_count": 29,
   "metadata": {},
   "outputs": [
    {
     "data": {
      "text/plain": [
       "array([[0.92195693, 0.15055528, 0.10767384, 0.64988465, 0.09309759],\n",
       "       [0.35249948, 0.22941428, 0.59710683, 0.63031878, 0.34697616],\n",
       "       [0.57251534, 0.42478773, 0.07617682, 0.09608835, 0.55587856],\n",
       "       [0.15673304, 0.94415963, 0.2106766 , 0.32913068, 0.15424418],\n",
       "       [0.84355948, 0.89733068, 0.50238508, 0.20964912, 0.84460794]])"
      ]
     },
     "execution_count": 29,
     "metadata": {},
     "output_type": "execute_result"
    }
   ],
   "source": [
    "rand_array"
   ]
  },
  {
   "cell_type": "code",
   "execution_count": 30,
   "metadata": {},
   "outputs": [],
   "source": [
    "rand_array=np.random.random(size=100)"
   ]
  },
  {
   "cell_type": "code",
   "execution_count": 31,
   "metadata": {},
   "outputs": [],
   "source": [
    "rand_array.sort()\n"
   ]
  },
  {
   "cell_type": "code",
   "execution_count": 32,
   "metadata": {},
   "outputs": [
    {
     "data": {
      "text/plain": [
       "array([0.00830615, 0.00899263, 0.01126249, 0.01564873, 0.02323009,\n",
       "       0.02363554, 0.02383342, 0.02717073, 0.036401  , 0.04646303,\n",
       "       0.05197002, 0.08168815, 0.10005904, 0.10958543, 0.12017158,\n",
       "       0.12542805, 0.15154791, 0.16156484, 0.17799692, 0.18944076,\n",
       "       0.19715123, 0.19872296, 0.20384367, 0.2215572 , 0.22816856,\n",
       "       0.22830285, 0.22970428, 0.23868424, 0.24830729, 0.25794562,\n",
       "       0.26064977, 0.27199707, 0.28688772, 0.30792672, 0.31681868,\n",
       "       0.32203129, 0.34406478, 0.35795484, 0.36539353, 0.37541218,\n",
       "       0.39997395, 0.41056043, 0.41478337, 0.42302122, 0.44104323,\n",
       "       0.44199171, 0.44361218, 0.45780127, 0.47266992, 0.47911975,\n",
       "       0.48095818, 0.48515508, 0.48940352, 0.4936265 , 0.49924461,\n",
       "       0.50144639, 0.50309507, 0.51231105, 0.52370769, 0.53975428,\n",
       "       0.54807793, 0.56615769, 0.56984453, 0.57077304, 0.59023926,\n",
       "       0.59999185, 0.60677428, 0.60805122, 0.62409852, 0.63411704,\n",
       "       0.64760726, 0.66188121, 0.67235768, 0.69135678, 0.69544215,\n",
       "       0.69822553, 0.70354322, 0.7343939 , 0.76082595, 0.78444105,\n",
       "       0.79956409, 0.82780767, 0.8474783 , 0.86338944, 0.8799603 ,\n",
       "       0.89221277, 0.8931409 , 0.89464055, 0.90517753, 0.91058623,\n",
       "       0.92175855, 0.92574203, 0.9264251 , 0.94542017, 0.94701682,\n",
       "       0.95829052, 0.969894  , 0.97695807, 0.9780225 , 0.99087724])"
      ]
     },
     "execution_count": 32,
     "metadata": {},
     "output_type": "execute_result"
    }
   ],
   "source": [
    "rand_array"
   ]
  },
  {
   "cell_type": "code",
   "execution_count": 33,
   "metadata": {},
   "outputs": [
    {
     "name": "stdout",
     "output_type": "stream",
     "text": [
      "0.00830614818360298\n",
      "0.0089926323420072\n",
      "0.011262488296353235\n",
      "0.015648726553112113\n",
      "0.02323009166383838\n",
      "0.023635543293728634\n",
      "0.02383342211216033\n",
      "0.027170732594435254\n",
      "0.036400999552075874\n",
      "0.0464630286990968\n",
      "0.051970018680687735\n",
      "0.08168814564142546\n",
      "0.10005904190127968\n",
      "0.10958542720357844\n",
      "0.12017158497135527\n",
      "0.12542805499617926\n",
      "0.15154790812836838\n",
      "0.1615648435174365\n",
      "0.17799692334669537\n",
      "0.18944076177473712\n",
      "0.1971512340483671\n",
      "0.1987229576002213\n",
      "0.20384367270677917\n",
      "0.22155719743139402\n",
      "0.2281685561855954\n",
      "0.22830285227917557\n",
      "0.2297042789128546\n",
      "0.23868423774695635\n",
      "0.2483072934713807\n",
      "0.2579456211326304\n",
      "0.26064976965703934\n",
      "0.2719970722289904\n",
      "0.28688772105989646\n",
      "0.3079267180884441\n",
      "0.3168186849661473\n",
      "0.3220312892555618\n",
      "0.34406477880117636\n",
      "0.35795484119347243\n",
      "0.3653935348094467\n",
      "0.3754121804021776\n",
      "0.3999739509749204\n",
      "0.41056043492722116\n",
      "0.41478337430812595\n",
      "0.42302121731786024\n",
      "0.4410432287874312\n",
      "0.441991707606907\n",
      "0.4436121841497045\n",
      "0.4578012738666739\n",
      "0.47266991537319913\n",
      "0.4791197456460997\n",
      "0.48095818184887174\n",
      "0.48515508068810975\n",
      "0.4894035151973424\n",
      "0.4936265008386511\n",
      "0.4992446081948365\n",
      "0.5014463923777673\n",
      "0.5030950736365858\n",
      "0.512311050801166\n",
      "0.5237076860013649\n",
      "0.5397542807251255\n",
      "0.5480779335309103\n",
      "0.5661576925261469\n",
      "0.5698445266877834\n",
      "0.5707730422023083\n",
      "0.5902392639002215\n",
      "0.599991854582548\n",
      "0.6067742808869881\n",
      "0.6080512172507331\n",
      "0.6240985211429886\n",
      "0.6341170433246082\n",
      "0.6476072630472155\n",
      "0.6618812117469194\n",
      "0.672357682921051\n",
      "0.6913567799605089\n",
      "0.6954421475894104\n",
      "0.698225530845378\n",
      "0.703543222743488\n",
      "0.7343938953528214\n",
      "0.7608259544381806\n",
      "0.7844410471553973\n",
      "0.7995640852413132\n",
      "0.8278076696488165\n",
      "0.8474782969269398\n",
      "0.8633894407724901\n",
      "0.8799603046564793\n",
      "0.8922127744571696\n",
      "0.8931409028349098\n",
      "0.8946405516958277\n",
      "0.9051775269998086\n",
      "0.9105862270118616\n",
      "0.9217585468162713\n",
      "0.9257420349199499\n",
      "0.9264250990658347\n",
      "0.9454201679253458\n",
      "0.9470168156877576\n",
      "0.9582905190014666\n",
      "0.9698940043292475\n",
      "0.9769580694883502\n",
      "0.9780224964422095\n",
      "0.9908772401642408\n"
     ]
    }
   ],
   "source": [
    "# 1 boyutlu array elemanlarını yazdır\n",
    "for i in rand_array:\n",
    "    print(i)"
   ]
  },
  {
   "cell_type": "code",
   "execution_count": 34,
   "metadata": {},
   "outputs": [],
   "source": [
    "# Exercises."
   ]
  },
  {
   "cell_type": "code",
   "execution_count": 35,
   "metadata": {},
   "outputs": [
    {
     "data": {
      "text/plain": [
       "np.float64(500.0)"
      ]
     },
     "execution_count": 35,
     "metadata": {},
     "output_type": "execute_result"
    }
   ],
   "source": [
    "x=np.linspace(0,10,100)\n",
    "x.sum()"
   ]
  },
  {
   "cell_type": "code",
   "execution_count": null,
   "metadata": {},
   "outputs": [],
   "source": []
  },
  {
   "cell_type": "code",
   "execution_count": 36,
   "metadata": {},
   "outputs": [
    {
     "data": {
      "text/plain": [
       "array([ 2.        ,  2.70707071,  3.41414141,  4.12121212,  4.82828283,\n",
       "        5.53535354,  6.24242424,  6.94949495,  7.65656566,  8.36363636,\n",
       "        9.07070707,  9.77777778, 10.48484848, 11.19191919, 11.8989899 ,\n",
       "       12.60606061, 13.31313131, 14.02020202, 14.72727273, 15.43434343,\n",
       "       16.14141414, 16.84848485, 17.55555556, 18.26262626, 18.96969697,\n",
       "       19.67676768, 20.38383838, 21.09090909, 21.7979798 , 22.50505051,\n",
       "       23.21212121, 23.91919192, 24.62626263, 25.33333333, 26.04040404,\n",
       "       26.74747475, 27.45454545, 28.16161616, 28.86868687, 29.57575758,\n",
       "       30.28282828, 30.98989899, 31.6969697 , 32.4040404 , 33.11111111,\n",
       "       33.81818182, 34.52525253, 35.23232323, 35.93939394, 36.64646465,\n",
       "       37.35353535, 38.06060606, 38.76767677, 39.47474747, 40.18181818,\n",
       "       40.88888889, 41.5959596 , 42.3030303 , 43.01010101, 43.71717172,\n",
       "       44.42424242, 45.13131313, 45.83838384, 46.54545455, 47.25252525,\n",
       "       47.95959596, 48.66666667, 49.37373737, 50.08080808, 50.78787879,\n",
       "       51.49494949, 52.2020202 , 52.90909091, 53.61616162, 54.32323232,\n",
       "       55.03030303, 55.73737374, 56.44444444, 57.15151515, 57.85858586,\n",
       "       58.56565657, 59.27272727, 59.97979798, 60.68686869, 61.39393939,\n",
       "       62.1010101 , 62.80808081, 63.51515152, 64.22222222, 64.92929293,\n",
       "       65.63636364, 66.34343434, 67.05050505, 67.75757576, 68.46464646,\n",
       "       69.17171717, 69.87878788, 70.58585859, 71.29292929, 72.        ])"
      ]
     },
     "execution_count": 36,
     "metadata": {},
     "output_type": "execute_result"
    }
   ],
   "source": [
    "#Calculate y=7x+2\n",
    "y=7*x+2\n",
    "y"
   ]
  },
  {
   "cell_type": "code",
   "execution_count": 37,
   "metadata": {},
   "outputs": [
    {
     "data": {
      "text/plain": [
       "array([0.        , 0.01020304, 0.04081216, 0.09182736, 0.16324865,\n",
       "       0.25507601, 0.36730946, 0.49994898, 0.65299459, 0.82644628])"
      ]
     },
     "execution_count": 37,
     "metadata": {},
     "output_type": "execute_result"
    }
   ],
   "source": [
    "#Calculate y=x**2 for the first 10 elements\n",
    "first_10=x[0:10]\n",
    "y=first_10**2\n",
    "y"
   ]
  },
  {
   "cell_type": "code",
   "execution_count": 38,
   "metadata": {},
   "outputs": [
    {
     "data": {
      "text/plain": [
       "np.float64(0.040812162024283234)"
      ]
     },
     "execution_count": 38,
     "metadata": {},
     "output_type": "execute_result"
    }
   ],
   "source": [
    "x[2]*x[2]"
   ]
  },
  {
   "cell_type": "code",
   "execution_count": 39,
   "metadata": {},
   "outputs": [],
   "source": [
    "#Define a 100 equally spaced points using linspace. And then another 100 random points. And then add x and y together\n",
    "x=np.linspace(0,10,100)\n",
    "\n",
    "y=np.random.random(size=100)\n"
   ]
  },
  {
   "cell_type": "code",
   "execution_count": 40,
   "metadata": {},
   "outputs": [],
   "source": [
    "#Add x and y together and save in z\n",
    "z=x+y"
   ]
  },
  {
   "cell_type": "code",
   "execution_count": 41,
   "metadata": {},
   "outputs": [],
   "source": [
    "#Calculate the sum of of x,y and z and tell me which one is the largest"
   ]
  },
  {
   "cell_type": "code",
   "execution_count": 42,
   "metadata": {},
   "outputs": [
    {
     "data": {
      "text/plain": [
       "array([ 0.0215079 ,  0.8429392 ,  0.86730542,  1.28821727,  0.51081602,\n",
       "        1.22627421,  1.48680761,  0.72606411,  0.86516455,  1.63399723,\n",
       "        1.90399554,  2.09325838,  2.09133745,  1.74709931,  2.30288224,\n",
       "        2.11235189,  2.3373386 ,  2.00868849,  2.24077461,  1.95575256,\n",
       "        2.89001981,  2.69951994,  2.53886356,  2.46367973,  2.93658197,\n",
       "        2.6181128 ,  3.44491138,  3.59057115,  3.75927315,  3.59583125,\n",
       "        3.1878634 ,  3.43170998,  3.27649205,  3.77187586,  4.30788552,\n",
       "        3.79796913,  3.73548426,  4.63339669,  4.0542951 ,  4.07382373,\n",
       "        5.03547531,  4.54752359,  5.16806251,  4.77375232,  4.98773364,\n",
       "        4.88125703,  4.92824805,  5.45529238,  5.5731962 ,  5.4641023 ,\n",
       "        5.0880293 ,  5.2781281 ,  5.82457313,  5.50195831,  6.4247339 ,\n",
       "        6.26545059,  6.1752946 ,  6.49825042,  6.07502811,  6.77167907,\n",
       "        6.68803507,  6.26033285,  6.36822669,  6.50367488,  7.35780494,\n",
       "        7.36931184,  7.15661927,  6.81315179,  7.75040635,  7.82911429,\n",
       "        7.89436085,  8.16629041,  8.14344445,  8.11540621,  7.93919443,\n",
       "        7.69007933,  8.01980624,  8.70124393,  8.40392206,  7.9843011 ,\n",
       "        8.60290684,  8.41050666,  9.02407169,  8.79681356,  9.05914887,\n",
       "        8.91692197,  9.22686101,  8.90566026,  9.58947496,  9.0785193 ,\n",
       "       10.02767918,  9.31004696,  9.77130799, 10.03924171,  9.52317079,\n",
       "       10.09936435,  9.83675372, 10.5513582 , 10.18223714, 10.63633661])"
      ]
     },
     "execution_count": 42,
     "metadata": {},
     "output_type": "execute_result"
    }
   ],
   "source": [
    "z"
   ]
  },
  {
   "cell_type": "code",
   "execution_count": 43,
   "metadata": {},
   "outputs": [
    {
     "name": "stdout",
     "output_type": "stream",
     "text": [
      "500.0\n",
      "50.531610632828105\n",
      "550.5316106328282\n"
     ]
    }
   ],
   "source": [
    "print(x.sum())\n",
    "print(y.sum())\n",
    "print(z.sum())"
   ]
  }
 ],
 "metadata": {
  "kernelspec": {
   "display_name": "Python [conda env:base] *",
   "language": "python",
   "name": "conda-base-py"
  },
  "language_info": {
   "codemirror_mode": {
    "name": "ipython",
    "version": 3
   },
   "file_extension": ".py",
   "mimetype": "text/x-python",
   "name": "python",
   "nbconvert_exporter": "python",
   "pygments_lexer": "ipython3",
   "version": "3.13.5"
  }
 },
 "nbformat": 4,
 "nbformat_minor": 4
}
